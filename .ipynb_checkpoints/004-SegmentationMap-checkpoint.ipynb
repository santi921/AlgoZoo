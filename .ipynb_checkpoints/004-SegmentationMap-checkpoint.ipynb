{
 "cells": [
  {
   "cell_type": "code",
   "execution_count": 42,
   "metadata": {},
   "outputs": [],
   "source": [
    "import tensorflow \n",
    "import numpy as np \n",
    "from os import listdir\n",
    "from scipy import stats\n",
    "from matplotlib.image import imread\n",
    "import matplotlib.pyplot as plt"
   ]
  },
  {
   "cell_type": "code",
   "execution_count": 44,
   "metadata": {},
   "outputs": [],
   "source": [
    "%matplotlib inline"
   ]
  },
  {
   "cell_type": "code",
   "execution_count": 62,
   "metadata": {},
   "outputs": [
    {
     "ename": "IndentationError",
     "evalue": "expected an indented block (<ipython-input-62-61ff0f02161e>, line 10)",
     "output_type": "error",
     "traceback": [
      "\u001b[0;36m  File \u001b[0;32m\"<ipython-input-62-61ff0f02161e>\"\u001b[0;36m, line \u001b[0;32m10\u001b[0m\n\u001b[0;31m    plt.imshow(temp)\u001b[0m\n\u001b[0m    ^\u001b[0m\n\u001b[0;31mIndentationError\u001b[0m\u001b[0;31m:\u001b[0m expected an indented block\n"
     ]
    }
   ],
   "source": [
    "dir = \"images/OnlineDatabases/FYVE Hela 1\"\n",
    "list_images = listdir(dir)\n",
    "    \n",
    "for i,images in enumerate(list_images):\n",
    "    if images[-9:-4]==\"label\":\n",
    "        temp = imread(dir + \"/\" + images)\n",
    "        for i in temp.shape[0]:\n",
    "            for j in temp.shape[1]:\n",
    "                if (temp[i][j] > 0.3333 and temp[i][j] < 0.6666):\n",
    "                    temp[i][j] = 1\n",
    "                else:\n",
    "                    temp[i][j] = 0\n",
    "                    \n",
    "        plt.imshow(temp)\n",
    "\n",
    "\n",
    "        "
   ]
  },
  {
   "cell_type": "code",
   "execution_count": null,
   "metadata": {},
   "outputs": [],
   "source": []
  }
 ],
 "metadata": {
  "kernelspec": {
   "display_name": "Python 3",
   "language": "python",
   "name": "python3"
  },
  "language_info": {
   "codemirror_mode": {
    "name": "ipython",
    "version": 3
   },
   "file_extension": ".py",
   "mimetype": "text/x-python",
   "name": "python",
   "nbconvert_exporter": "python",
   "pygments_lexer": "ipython3",
   "version": "3.5.6"
  }
 },
 "nbformat": 4,
 "nbformat_minor": 2
}
