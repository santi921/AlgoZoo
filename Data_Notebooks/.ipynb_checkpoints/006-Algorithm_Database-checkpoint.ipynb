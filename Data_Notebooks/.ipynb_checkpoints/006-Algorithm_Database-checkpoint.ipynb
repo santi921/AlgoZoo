{
 "cells": [
  {
   "cell_type": "code",
   "execution_count": 5,
   "metadata": {},
   "outputs": [
    {
     "name": "stdout",
     "output_type": "stream",
     "text": [
      " 001-Thresholding.ipynb        003-ImageStandardizationAndDb.ipynb\r\n",
      " 002-BasicNN.ipynb\t       004-SegmentationMap.ipynb\r\n",
      "'002-Linear Regressor.ipynb'   005-Algorithm_Database.ipynb\r\n"
     ]
    }
   ],
   "source": [
    "import pandas as pd\n",
    "!ls"
   ]
  },
  {
   "cell_type": "code",
   "execution_count": 2,
   "metadata": {},
   "outputs": [],
   "source": [
    "#DB Structure:\n",
    "# name|||||test acc|||||train acc|||||f1m train|||||f1m test|||||dataset #////k-folds ff scikit\n",
    "\n",
    "df = pd.DataFrame(columns=['ref','type' ,'train_acc', 'test_acc', 'f1m_train', 'f1m_test', 'kfolds', 'dataset', 'parameters','aug', 'train_time', 'imsize'])\n",
    "test = {'train_acc':[0], 'test_acc':[0], 'f1m_train':[0], 'f1m_test':[0], 'kfolds':[0], 'dataset':[0],'parameters':[[0,1,2,2,3]] }"
   ]
  },
  {
   "cell_type": "code",
   "execution_count": 6,
   "metadata": {},
   "outputs": [],
   "source": [
    "test = pd.DataFrame.from_dict(test)"
   ]
  },
  {
   "cell_type": "code",
   "execution_count": 7,
   "metadata": {},
   "outputs": [
    {
     "data": {
      "text/html": [
       "<div>\n",
       "<style scoped>\n",
       "    .dataframe tbody tr th:only-of-type {\n",
       "        vertical-align: middle;\n",
       "    }\n",
       "\n",
       "    .dataframe tbody tr th {\n",
       "        vertical-align: top;\n",
       "    }\n",
       "\n",
       "    .dataframe thead th {\n",
       "        text-align: right;\n",
       "    }\n",
       "</style>\n",
       "<table border=\"1\" class=\"dataframe\">\n",
       "  <thead>\n",
       "    <tr style=\"text-align: right;\">\n",
       "      <th></th>\n",
       "      <th>dataset</th>\n",
       "      <th>f1m_test</th>\n",
       "      <th>f1m_train</th>\n",
       "      <th>kfolds</th>\n",
       "      <th>parameters</th>\n",
       "      <th>test_acc</th>\n",
       "      <th>train_acc</th>\n",
       "    </tr>\n",
       "  </thead>\n",
       "  <tbody>\n",
       "    <tr>\n",
       "      <th>0</th>\n",
       "      <td>0</td>\n",
       "      <td>0</td>\n",
       "      <td>0</td>\n",
       "      <td>0</td>\n",
       "      <td>[0, 1, 2, 2, 3]</td>\n",
       "      <td>0</td>\n",
       "      <td>0</td>\n",
       "    </tr>\n",
       "  </tbody>\n",
       "</table>\n",
       "</div>"
      ],
      "text/plain": [
       "   dataset  f1m_test  f1m_train  kfolds       parameters  test_acc  train_acc\n",
       "0        0         0          0       0  [0, 1, 2, 2, 3]         0          0"
      ]
     },
     "execution_count": 7,
     "metadata": {},
     "output_type": "execute_result"
    }
   ],
   "source": [
    "test"
   ]
  },
  {
   "cell_type": "code",
   "execution_count": 3,
   "metadata": {},
   "outputs": [
    {
     "data": {
      "text/html": [
       "<div>\n",
       "<style scoped>\n",
       "    .dataframe tbody tr th:only-of-type {\n",
       "        vertical-align: middle;\n",
       "    }\n",
       "\n",
       "    .dataframe tbody tr th {\n",
       "        vertical-align: top;\n",
       "    }\n",
       "\n",
       "    .dataframe thead th {\n",
       "        text-align: right;\n",
       "    }\n",
       "</style>\n",
       "<table border=\"1\" class=\"dataframe\">\n",
       "  <thead>\n",
       "    <tr style=\"text-align: right;\">\n",
       "      <th></th>\n",
       "      <th>ref</th>\n",
       "      <th>type</th>\n",
       "      <th>train_acc</th>\n",
       "      <th>test_acc</th>\n",
       "      <th>f1m_train</th>\n",
       "      <th>f1m_test</th>\n",
       "      <th>kfolds</th>\n",
       "      <th>dataset</th>\n",
       "      <th>parameters</th>\n",
       "      <th>aug</th>\n",
       "      <th>train_time</th>\n",
       "      <th>imsize</th>\n",
       "    </tr>\n",
       "  </thead>\n",
       "  <tbody>\n",
       "  </tbody>\n",
       "</table>\n",
       "</div>"
      ],
      "text/plain": [
       "Empty DataFrame\n",
       "Columns: [ref, type, train_acc, test_acc, f1m_train, f1m_test, kfolds, dataset, parameters, aug, train_time, imsize]\n",
       "Index: []"
      ]
     },
     "execution_count": 3,
     "metadata": {},
     "output_type": "execute_result"
    }
   ],
   "source": [
    "df"
   ]
  },
  {
   "cell_type": "code",
   "execution_count": 48,
   "metadata": {},
   "outputs": [
    {
     "name": "stderr",
     "output_type": "stream",
     "text": [
      "/home/santiagovargas/anaconda3/envs/py35/lib/python3.5/site-packages/pandas/core/frame.py:6692: FutureWarning: Sorting because non-concatenation axis is not aligned. A future version\n",
      "of pandas will change to not sort by default.\n",
      "\n",
      "To accept the future behavior, pass 'sort=False'.\n",
      "\n",
      "To retain the current behavior and silence the warning, pass 'sort=True'.\n",
      "\n",
      "  sort=sort)\n"
     ]
    },
    {
     "data": {
      "text/html": [
       "<div>\n",
       "<style scoped>\n",
       "    .dataframe tbody tr th:only-of-type {\n",
       "        vertical-align: middle;\n",
       "    }\n",
       "\n",
       "    .dataframe tbody tr th {\n",
       "        vertical-align: top;\n",
       "    }\n",
       "\n",
       "    .dataframe thead th {\n",
       "        text-align: right;\n",
       "    }\n",
       "</style>\n",
       "<table border=\"1\" class=\"dataframe\">\n",
       "  <thead>\n",
       "    <tr style=\"text-align: right;\">\n",
       "      <th></th>\n",
       "      <th>dataset</th>\n",
       "      <th>f1m_test</th>\n",
       "      <th>f1m_train</th>\n",
       "      <th>kfolds</th>\n",
       "      <th>parameters</th>\n",
       "      <th>ref</th>\n",
       "      <th>test_acc</th>\n",
       "      <th>train_acc</th>\n",
       "      <th>type</th>\n",
       "    </tr>\n",
       "  </thead>\n",
       "  <tbody>\n",
       "    <tr>\n",
       "      <th>0</th>\n",
       "      <td>0</td>\n",
       "      <td>0</td>\n",
       "      <td>0</td>\n",
       "      <td>0</td>\n",
       "      <td>[0, 1, 2, 2, 3]</td>\n",
       "      <td>NaN</td>\n",
       "      <td>0</td>\n",
       "      <td>0</td>\n",
       "      <td>NaN</td>\n",
       "    </tr>\n",
       "  </tbody>\n",
       "</table>\n",
       "</div>"
      ],
      "text/plain": [
       "  dataset f1m_test f1m_train kfolds       parameters  ref test_acc train_acc  \\\n",
       "0       0        0         0      0  [0, 1, 2, 2, 3]  NaN        0         0   \n",
       "\n",
       "  type  \n",
       "0  NaN  "
      ]
     },
     "execution_count": 48,
     "metadata": {},
     "output_type": "execute_result"
    }
   ],
   "source": [
    "df.append(test)"
   ]
  },
  {
   "cell_type": "code",
   "execution_count": 4,
   "metadata": {},
   "outputs": [],
   "source": [
    "df.to_pickle(\"./Algorithm_DB/***statistics_DONTDELETE.pkl\")"
   ]
  },
  {
   "cell_type": "code",
   "execution_count": 6,
   "metadata": {},
   "outputs": [],
   "source": [
    "df = pd.read_pickle(\"/home/santiagovargas/dev/CancerImaging/CancerImaging/Algorithm_DB/***statistics_DONTDELETE.pkl\")"
   ]
  },
  {
   "cell_type": "code",
   "execution_count": 7,
   "metadata": {
    "scrolled": true
   },
   "outputs": [
    {
     "data": {
      "text/html": [
       "<div>\n",
       "<style scoped>\n",
       "    .dataframe tbody tr th:only-of-type {\n",
       "        vertical-align: middle;\n",
       "    }\n",
       "\n",
       "    .dataframe tbody tr th {\n",
       "        vertical-align: top;\n",
       "    }\n",
       "\n",
       "    .dataframe thead th {\n",
       "        text-align: right;\n",
       "    }\n",
       "</style>\n",
       "<table border=\"1\" class=\"dataframe\">\n",
       "  <thead>\n",
       "    <tr style=\"text-align: right;\">\n",
       "      <th></th>\n",
       "      <th>aug</th>\n",
       "      <th>dataset</th>\n",
       "      <th>f1m_test</th>\n",
       "      <th>f1m_train</th>\n",
       "      <th>imsize</th>\n",
       "      <th>kfolds</th>\n",
       "      <th>parameters</th>\n",
       "      <th>ref</th>\n",
       "      <th>test_acc</th>\n",
       "      <th>train_acc</th>\n",
       "      <th>train_time</th>\n",
       "      <th>type</th>\n",
       "    </tr>\n",
       "  </thead>\n",
       "  <tbody>\n",
       "    <tr>\n",
       "      <th>0</th>\n",
       "      <td>False</td>\n",
       "      <td>3</td>\n",
       "      <td>0.581252</td>\n",
       "      <td>0.596322</td>\n",
       "      <td>128</td>\n",
       "      <td>0.837734</td>\n",
       "      <td>[squared_loss, 5.566051886100224e-06, 12673.31...</td>\n",
       "      <td>Algorithm_DB/sgd_2019-7-25-1-7-9.pkl</td>\n",
       "      <td>0.975309</td>\n",
       "      <td>0.980060</td>\n",
       "      <td>NaN</td>\n",
       "      <td>sgd</td>\n",
       "    </tr>\n",
       "    <tr>\n",
       "      <th>0</th>\n",
       "      <td>False</td>\n",
       "      <td>3</td>\n",
       "      <td>0.588473</td>\n",
       "      <td>0.598820</td>\n",
       "      <td>128</td>\n",
       "      <td>0.846944</td>\n",
       "      <td>[preceptron, 1.0112779094977502e-06, 3252.9420...</td>\n",
       "      <td>Algorithm_DB/sgd_2019-7-25-1-8-42.pkl</td>\n",
       "      <td>0.989990</td>\n",
       "      <td>0.989905</td>\n",
       "      <td>NaN</td>\n",
       "      <td>sgd</td>\n",
       "    </tr>\n",
       "    <tr>\n",
       "      <th>0</th>\n",
       "      <td>False</td>\n",
       "      <td>3</td>\n",
       "      <td>0.584372</td>\n",
       "      <td>0.593834</td>\n",
       "      <td>128</td>\n",
       "      <td>0.829188</td>\n",
       "      <td>[preceptron, 6.177312650562418e-08, 5351.68147...</td>\n",
       "      <td>Algorithm_DB/sgd_2019-7-25-1-10-4.pkl</td>\n",
       "      <td>0.990657</td>\n",
       "      <td>0.993159</td>\n",
       "      <td>NaN</td>\n",
       "      <td>sgd</td>\n",
       "    </tr>\n",
       "    <tr>\n",
       "      <th>0</th>\n",
       "      <td>False</td>\n",
       "      <td>3</td>\n",
       "      <td>0.634750</td>\n",
       "      <td>0.659135</td>\n",
       "      <td>128</td>\n",
       "      <td>0.835932</td>\n",
       "      <td>[log, 3.0495989811484327e-07, 6222.94793280866...</td>\n",
       "      <td>Algorithm_DB/sgd_2019-7-25-10-56-39.pkl</td>\n",
       "      <td>0.902569</td>\n",
       "      <td>0.908310</td>\n",
       "      <td>NaN</td>\n",
       "      <td>sgd</td>\n",
       "    </tr>\n",
       "  </tbody>\n",
       "</table>\n",
       "</div>"
      ],
      "text/plain": [
       "     aug dataset  f1m_test  f1m_train imsize    kfolds  \\\n",
       "0  False       3  0.581252   0.596322    128  0.837734   \n",
       "0  False       3  0.588473   0.598820    128  0.846944   \n",
       "0  False       3  0.584372   0.593834    128  0.829188   \n",
       "0  False       3  0.634750   0.659135    128  0.835932   \n",
       "\n",
       "                                          parameters  \\\n",
       "0  [squared_loss, 5.566051886100224e-06, 12673.31...   \n",
       "0  [preceptron, 1.0112779094977502e-06, 3252.9420...   \n",
       "0  [preceptron, 6.177312650562418e-08, 5351.68147...   \n",
       "0  [log, 3.0495989811484327e-07, 6222.94793280866...   \n",
       "\n",
       "                                       ref  test_acc  train_acc train_time  \\\n",
       "0     Algorithm_DB/sgd_2019-7-25-1-7-9.pkl  0.975309   0.980060        NaN   \n",
       "0    Algorithm_DB/sgd_2019-7-25-1-8-42.pkl  0.989990   0.989905        NaN   \n",
       "0    Algorithm_DB/sgd_2019-7-25-1-10-4.pkl  0.990657   0.993159        NaN   \n",
       "0  Algorithm_DB/sgd_2019-7-25-10-56-39.pkl  0.902569   0.908310        NaN   \n",
       "\n",
       "  type  \n",
       "0  sgd  \n",
       "0  sgd  \n",
       "0  sgd  \n",
       "0  sgd  "
      ]
     },
     "execution_count": 7,
     "metadata": {},
     "output_type": "execute_result"
    }
   ],
   "source": [
    "df"
   ]
  },
  {
   "cell_type": "code",
   "execution_count": 3,
   "metadata": {},
   "outputs": [
    {
     "data": {
      "text/plain": [
       "'/home/santiagovargas/dev/CancerImaging/CancerImaging/Data_Notebooks'"
      ]
     },
     "execution_count": 3,
     "metadata": {},
     "output_type": "execute_result"
    }
   ],
   "source": [
    "import os \n",
    "os.getcwd()"
   ]
  },
  {
   "cell_type": "code",
   "execution_count": null,
   "metadata": {},
   "outputs": [],
   "source": []
  }
 ],
 "metadata": {
  "kernelspec": {
   "display_name": "Python 3",
   "language": "python",
   "name": "python3"
  },
  "language_info": {
   "codemirror_mode": {
    "name": "ipython",
    "version": 3
   },
   "file_extension": ".py",
   "mimetype": "text/x-python",
   "name": "python",
   "nbconvert_exporter": "python",
   "pygments_lexer": "ipython3",
   "version": "3.5.6"
  }
 },
 "nbformat": 4,
 "nbformat_minor": 2
}
