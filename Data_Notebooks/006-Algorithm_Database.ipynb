{
 "cells": [
  {
   "cell_type": "code",
   "execution_count": 2,
   "metadata": {},
   "outputs": [
    {
     "name": "stdout",
     "output_type": "stream",
     "text": [
      " 001-Thresholding.ipynb\t\t       005-SegmentationMap.ipynb\r\n",
      " 002-BasicNN.ipynb\t\t       006-Algorithm_Database.ipynb\r\n",
      "'003-Linear Regressor.ipynb'\t       007-Test_Battery.ipynb\r\n",
      " 004-ImageStandardizationAndDb.ipynb   008-Data_Display.ipynb\r\n"
     ]
    }
   ],
   "source": [
    "import pandas as pd\n",
    "!ls"
   ]
  },
  {
   "cell_type": "code",
   "execution_count": 8,
   "metadata": {},
   "outputs": [],
   "source": [
    "#DB Structure:\n",
    "# name|||||test acc|||||train acc|||||f1m train|||||f1m test|||||dataset #////k-folds ff scikit\n",
    "\n",
    "df = pd.DataFrame(columns=['ref','type' ,'train_acc', 'test_acc', 'f1m_train', 'f1m_test', 'kfolds', 'dataset', 'parameters','aug', 'train_time', 'imsize'])\n",
    "test = {'train_acc':[0], 'test_acc':[0], 'f1m_train':[0], 'f1m_test':[0], 'kfolds':[0], 'dataset':[0],'parameters':[[0,1,2,2,3]] }"
   ]
  },
  {
   "cell_type": "code",
   "execution_count": 6,
   "metadata": {},
   "outputs": [],
   "source": [
    "test = pd.DataFrame.from_dict(test)"
   ]
  },
  {
   "cell_type": "code",
   "execution_count": 7,
   "metadata": {},
   "outputs": [
    {
     "data": {
      "text/html": [
       "<div>\n",
       "<style scoped>\n",
       "    .dataframe tbody tr th:only-of-type {\n",
       "        vertical-align: middle;\n",
       "    }\n",
       "\n",
       "    .dataframe tbody tr th {\n",
       "        vertical-align: top;\n",
       "    }\n",
       "\n",
       "    .dataframe thead th {\n",
       "        text-align: right;\n",
       "    }\n",
       "</style>\n",
       "<table border=\"1\" class=\"dataframe\">\n",
       "  <thead>\n",
       "    <tr style=\"text-align: right;\">\n",
       "      <th></th>\n",
       "      <th>dataset</th>\n",
       "      <th>f1m_test</th>\n",
       "      <th>f1m_train</th>\n",
       "      <th>kfolds</th>\n",
       "      <th>parameters</th>\n",
       "      <th>test_acc</th>\n",
       "      <th>train_acc</th>\n",
       "    </tr>\n",
       "  </thead>\n",
       "  <tbody>\n",
       "    <tr>\n",
       "      <th>0</th>\n",
       "      <td>0</td>\n",
       "      <td>0</td>\n",
       "      <td>0</td>\n",
       "      <td>0</td>\n",
       "      <td>[0, 1, 2, 2, 3]</td>\n",
       "      <td>0</td>\n",
       "      <td>0</td>\n",
       "    </tr>\n",
       "  </tbody>\n",
       "</table>\n",
       "</div>"
      ],
      "text/plain": [
       "   dataset  f1m_test  f1m_train  kfolds       parameters  test_acc  train_acc\n",
       "0        0         0          0       0  [0, 1, 2, 2, 3]         0          0"
      ]
     },
     "execution_count": 7,
     "metadata": {},
     "output_type": "execute_result"
    }
   ],
   "source": [
    "test"
   ]
  },
  {
   "cell_type": "code",
   "execution_count": 9,
   "metadata": {},
   "outputs": [
    {
     "data": {
      "text/html": [
       "<div>\n",
       "<style scoped>\n",
       "    .dataframe tbody tr th:only-of-type {\n",
       "        vertical-align: middle;\n",
       "    }\n",
       "\n",
       "    .dataframe tbody tr th {\n",
       "        vertical-align: top;\n",
       "    }\n",
       "\n",
       "    .dataframe thead th {\n",
       "        text-align: right;\n",
       "    }\n",
       "</style>\n",
       "<table border=\"1\" class=\"dataframe\">\n",
       "  <thead>\n",
       "    <tr style=\"text-align: right;\">\n",
       "      <th></th>\n",
       "      <th>ref</th>\n",
       "      <th>type</th>\n",
       "      <th>train_acc</th>\n",
       "      <th>test_acc</th>\n",
       "      <th>f1m_train</th>\n",
       "      <th>f1m_test</th>\n",
       "      <th>kfolds</th>\n",
       "      <th>dataset</th>\n",
       "      <th>parameters</th>\n",
       "      <th>aug</th>\n",
       "      <th>train_time</th>\n",
       "      <th>imsize</th>\n",
       "    </tr>\n",
       "  </thead>\n",
       "  <tbody>\n",
       "  </tbody>\n",
       "</table>\n",
       "</div>"
      ],
      "text/plain": [
       "Empty DataFrame\n",
       "Columns: [ref, type, train_acc, test_acc, f1m_train, f1m_test, kfolds, dataset, parameters, aug, train_time, imsize]\n",
       "Index: []"
      ]
     },
     "execution_count": 9,
     "metadata": {},
     "output_type": "execute_result"
    }
   ],
   "source": [
    "df"
   ]
  },
  {
   "cell_type": "code",
   "execution_count": 48,
   "metadata": {},
   "outputs": [
    {
     "name": "stderr",
     "output_type": "stream",
     "text": [
      "/home/santiagovargas/anaconda3/envs/py35/lib/python3.5/site-packages/pandas/core/frame.py:6692: FutureWarning: Sorting because non-concatenation axis is not aligned. A future version\n",
      "of pandas will change to not sort by default.\n",
      "\n",
      "To accept the future behavior, pass 'sort=False'.\n",
      "\n",
      "To retain the current behavior and silence the warning, pass 'sort=True'.\n",
      "\n",
      "  sort=sort)\n"
     ]
    },
    {
     "data": {
      "text/html": [
       "<div>\n",
       "<style scoped>\n",
       "    .dataframe tbody tr th:only-of-type {\n",
       "        vertical-align: middle;\n",
       "    }\n",
       "\n",
       "    .dataframe tbody tr th {\n",
       "        vertical-align: top;\n",
       "    }\n",
       "\n",
       "    .dataframe thead th {\n",
       "        text-align: right;\n",
       "    }\n",
       "</style>\n",
       "<table border=\"1\" class=\"dataframe\">\n",
       "  <thead>\n",
       "    <tr style=\"text-align: right;\">\n",
       "      <th></th>\n",
       "      <th>dataset</th>\n",
       "      <th>f1m_test</th>\n",
       "      <th>f1m_train</th>\n",
       "      <th>kfolds</th>\n",
       "      <th>parameters</th>\n",
       "      <th>ref</th>\n",
       "      <th>test_acc</th>\n",
       "      <th>train_acc</th>\n",
       "      <th>type</th>\n",
       "    </tr>\n",
       "  </thead>\n",
       "  <tbody>\n",
       "    <tr>\n",
       "      <th>0</th>\n",
       "      <td>0</td>\n",
       "      <td>0</td>\n",
       "      <td>0</td>\n",
       "      <td>0</td>\n",
       "      <td>[0, 1, 2, 2, 3]</td>\n",
       "      <td>NaN</td>\n",
       "      <td>0</td>\n",
       "      <td>0</td>\n",
       "      <td>NaN</td>\n",
       "    </tr>\n",
       "  </tbody>\n",
       "</table>\n",
       "</div>"
      ],
      "text/plain": [
       "  dataset f1m_test f1m_train kfolds       parameters  ref test_acc train_acc  \\\n",
       "0       0        0         0      0  [0, 1, 2, 2, 3]  NaN        0         0   \n",
       "\n",
       "  type  \n",
       "0  NaN  "
      ]
     },
     "execution_count": 48,
     "metadata": {},
     "output_type": "execute_result"
    }
   ],
   "source": [
    "df.append(test)"
   ]
  },
  {
   "cell_type": "code",
   "execution_count": 12,
   "metadata": {},
   "outputs": [
    {
     "name": "stdout",
     "output_type": "stream",
     "text": [
      "/home/santiagovargas/dev/CancerImaging/CancerImaging/Data_Notebooks\r\n"
     ]
    }
   ],
   "source": [
    "!pwd\n",
    "df.to_pickle(\"/home/santiagovargas/dev/CancerImaging/CancerImaging/Algorithm_DB/***statistics_DONTDELETE.pkl\")\n"
   ]
  },
  {
   "cell_type": "code",
   "execution_count": 5,
   "metadata": {},
   "outputs": [],
   "source": [
    "df = pd.read_pickle(\"/home/santiagovargas/dev/CancerImaging/CancerImaging/Algorithm_DB/***statistics_DONTDELETE.pkl\")\n",
    "df = pd.read_pickle(\"/home/santiagovargas/dev/CancerImaging/CancerImaging/***statistics_DONTDELETE.pkl\")"
   ]
  },
  {
   "cell_type": "code",
   "execution_count": 11,
   "metadata": {
    "scrolled": true
   },
   "outputs": [
    {
     "data": {
      "text/html": [
       "<div>\n",
       "<style scoped>\n",
       "    .dataframe tbody tr th:only-of-type {\n",
       "        vertical-align: middle;\n",
       "    }\n",
       "\n",
       "    .dataframe tbody tr th {\n",
       "        vertical-align: top;\n",
       "    }\n",
       "\n",
       "    .dataframe thead th {\n",
       "        text-align: right;\n",
       "    }\n",
       "</style>\n",
       "<table border=\"1\" class=\"dataframe\">\n",
       "  <thead>\n",
       "    <tr style=\"text-align: right;\">\n",
       "      <th></th>\n",
       "      <th>aug</th>\n",
       "      <th>dataset</th>\n",
       "      <th>f1m_test</th>\n",
       "      <th>f1m_train</th>\n",
       "      <th>imsize</th>\n",
       "      <th>kfolds</th>\n",
       "      <th>parameters</th>\n",
       "      <th>ref</th>\n",
       "      <th>test_acc</th>\n",
       "      <th>train_acc</th>\n",
       "      <th>train_time</th>\n",
       "      <th>type</th>\n",
       "    </tr>\n",
       "  </thead>\n",
       "  <tbody>\n",
       "    <tr>\n",
       "      <th>0</th>\n",
       "      <td>False</td>\n",
       "      <td>3</td>\n",
       "      <td>0.634623</td>\n",
       "      <td>0.640022</td>\n",
       "      <td>NaN</td>\n",
       "      <td>0.0</td>\n",
       "      <td>[rbf, 0.37809732148714703, 4, 0, 0, 0.00092213...</td>\n",
       "      <td>Algorithm_DB/svm_2019-7-26-1-54-3.pkl</td>\n",
       "      <td>0.888555</td>\n",
       "      <td>0.901802</td>\n",
       "      <td>NaN</td>\n",
       "      <td>svm</td>\n",
       "    </tr>\n",
       "    <tr>\n",
       "      <th>0</th>\n",
       "      <td>False</td>\n",
       "      <td>3</td>\n",
       "      <td>0.585586</td>\n",
       "      <td>0.597285</td>\n",
       "      <td>NaN</td>\n",
       "      <td>0.0</td>\n",
       "      <td>[poly, 0.32216164475231107, 5, 0, 0, 5.8106056...</td>\n",
       "      <td>Algorithm_DB/svm_2019-7-26-8-37-47.pkl</td>\n",
       "      <td>0.897574</td>\n",
       "      <td>0.894435</td>\n",
       "      <td>NaN</td>\n",
       "      <td>svm</td>\n",
       "    </tr>\n",
       "    <tr>\n",
       "      <th>0</th>\n",
       "      <td>False</td>\n",
       "      <td>3</td>\n",
       "      <td>0.527174</td>\n",
       "      <td>0.541200</td>\n",
       "      <td>NaN</td>\n",
       "      <td>0.0</td>\n",
       "      <td>[poly, 8.990950061294386, 5, 0, 0, 5.015675515...</td>\n",
       "      <td>Algorithm_DB/svm_2019-7-26-9-9-22.pkl</td>\n",
       "      <td>0.991914</td>\n",
       "      <td>0.994604</td>\n",
       "      <td>NaN</td>\n",
       "      <td>svm</td>\n",
       "    </tr>\n",
       "    <tr>\n",
       "      <th>0</th>\n",
       "      <td>False</td>\n",
       "      <td>3</td>\n",
       "      <td>0.570093</td>\n",
       "      <td>0.579690</td>\n",
       "      <td>NaN</td>\n",
       "      <td>0.0</td>\n",
       "      <td>[linear, 1.6236490578371563, 6, 0, 0, 0.000360...</td>\n",
       "      <td>Algorithm_DB/svm_2019-7-27-16-47-3.pkl</td>\n",
       "      <td>0.999666</td>\n",
       "      <td>0.999833</td>\n",
       "      <td>NaN</td>\n",
       "      <td>svm</td>\n",
       "    </tr>\n",
       "    <tr>\n",
       "      <th>0</th>\n",
       "      <td>False</td>\n",
       "      <td>3</td>\n",
       "      <td>0.572764</td>\n",
       "      <td>0.578925</td>\n",
       "      <td>NaN</td>\n",
       "      <td>0.0</td>\n",
       "      <td>[linear, 224.25771195397257, 4, 0, 0, 9.654919...</td>\n",
       "      <td>Algorithm_DB/svm_2019-7-27-16-56-25.pkl</td>\n",
       "      <td>0.999666</td>\n",
       "      <td>1.000000</td>\n",
       "      <td>NaN</td>\n",
       "      <td>svm</td>\n",
       "    </tr>\n",
       "    <tr>\n",
       "      <th>0</th>\n",
       "      <td>False</td>\n",
       "      <td>3</td>\n",
       "      <td>0.561603</td>\n",
       "      <td>0.581545</td>\n",
       "      <td>NaN</td>\n",
       "      <td>0.0</td>\n",
       "      <td>[linear, 0.06955528727742852, 8, 0, 0, 1.63505...</td>\n",
       "      <td>Algorithm_DB/svm_2019-7-27-17-12-46.pkl</td>\n",
       "      <td>0.999333</td>\n",
       "      <td>0.999082</td>\n",
       "      <td>NaN</td>\n",
       "      <td>svm</td>\n",
       "    </tr>\n",
       "    <tr>\n",
       "      <th>0</th>\n",
       "      <td>False</td>\n",
       "      <td>3</td>\n",
       "      <td>0.588353</td>\n",
       "      <td>0.573307</td>\n",
       "      <td>NaN</td>\n",
       "      <td>0.0</td>\n",
       "      <td>[poly, 42.961565000525155, 3, 0, 0, 8.45227292...</td>\n",
       "      <td>Algorithm_DB/svm_2019-7-27-17-21-6.pkl</td>\n",
       "      <td>0.996997</td>\n",
       "      <td>0.996412</td>\n",
       "      <td>NaN</td>\n",
       "      <td>svm</td>\n",
       "    </tr>\n",
       "    <tr>\n",
       "      <th>0</th>\n",
       "      <td>False</td>\n",
       "      <td>3</td>\n",
       "      <td>0.561345</td>\n",
       "      <td>0.576751</td>\n",
       "      <td>NaN</td>\n",
       "      <td>0.0</td>\n",
       "      <td>[rbf, 4.1323293453117085, 9, 0, 0, 0.000137452...</td>\n",
       "      <td>Algorithm_DB/svm_2019-7-27-18-15-24.pkl</td>\n",
       "      <td>0.992659</td>\n",
       "      <td>0.989738</td>\n",
       "      <td>NaN</td>\n",
       "      <td>svm</td>\n",
       "    </tr>\n",
       "    <tr>\n",
       "      <th>0</th>\n",
       "      <td>False</td>\n",
       "      <td>3</td>\n",
       "      <td>0.570406</td>\n",
       "      <td>0.568631</td>\n",
       "      <td>NaN</td>\n",
       "      <td>0.0</td>\n",
       "      <td>[poly, 3.370588865150349, 3, 0, 0, 4.978181881...</td>\n",
       "      <td>Algorithm_DB/svm_2019-7-29-13-3-35.pkl</td>\n",
       "      <td>0.978645</td>\n",
       "      <td>0.979810</td>\n",
       "      <td>NaN</td>\n",
       "      <td>svm</td>\n",
       "    </tr>\n",
       "    <tr>\n",
       "      <th>0</th>\n",
       "      <td>False</td>\n",
       "      <td>3</td>\n",
       "      <td>0.723423</td>\n",
       "      <td>0.723582</td>\n",
       "      <td>NaN</td>\n",
       "      <td>0.0</td>\n",
       "      <td>[rbf, 0.0005223361225890096, 7, 0, 0, 0.000112...</td>\n",
       "      <td>Algorithm_DB/svm_2019-7-30-4-0-44.pkl</td>\n",
       "      <td>0.756423</td>\n",
       "      <td>0.750042</td>\n",
       "      <td>NaN</td>\n",
       "      <td>svm</td>\n",
       "    </tr>\n",
       "    <tr>\n",
       "      <th>0</th>\n",
       "      <td>False</td>\n",
       "      <td>3</td>\n",
       "      <td>0.564111</td>\n",
       "      <td>0.579933</td>\n",
       "      <td>NaN</td>\n",
       "      <td>0.0</td>\n",
       "      <td>[rbf, 53.338032867230886, 8, 0, 0, 4.427060272...</td>\n",
       "      <td>Algorithm_DB/svm_2019-7-30-5-1-5.pkl</td>\n",
       "      <td>0.996663</td>\n",
       "      <td>0.997831</td>\n",
       "      <td>NaN</td>\n",
       "      <td>svm</td>\n",
       "    </tr>\n",
       "  </tbody>\n",
       "</table>\n",
       "</div>"
      ],
      "text/plain": [
       "     aug dataset  f1m_test  f1m_train  imsize  kfolds  \\\n",
       "0  False       3  0.634623   0.640022     NaN     0.0   \n",
       "0  False       3  0.585586   0.597285     NaN     0.0   \n",
       "0  False       3  0.527174   0.541200     NaN     0.0   \n",
       "0  False       3  0.570093   0.579690     NaN     0.0   \n",
       "0  False       3  0.572764   0.578925     NaN     0.0   \n",
       "0  False       3  0.561603   0.581545     NaN     0.0   \n",
       "0  False       3  0.588353   0.573307     NaN     0.0   \n",
       "0  False       3  0.561345   0.576751     NaN     0.0   \n",
       "0  False       3  0.570406   0.568631     NaN     0.0   \n",
       "0  False       3  0.723423   0.723582     NaN     0.0   \n",
       "0  False       3  0.564111   0.579933     NaN     0.0   \n",
       "\n",
       "                                          parameters  \\\n",
       "0  [rbf, 0.37809732148714703, 4, 0, 0, 0.00092213...   \n",
       "0  [poly, 0.32216164475231107, 5, 0, 0, 5.8106056...   \n",
       "0  [poly, 8.990950061294386, 5, 0, 0, 5.015675515...   \n",
       "0  [linear, 1.6236490578371563, 6, 0, 0, 0.000360...   \n",
       "0  [linear, 224.25771195397257, 4, 0, 0, 9.654919...   \n",
       "0  [linear, 0.06955528727742852, 8, 0, 0, 1.63505...   \n",
       "0  [poly, 42.961565000525155, 3, 0, 0, 8.45227292...   \n",
       "0  [rbf, 4.1323293453117085, 9, 0, 0, 0.000137452...   \n",
       "0  [poly, 3.370588865150349, 3, 0, 0, 4.978181881...   \n",
       "0  [rbf, 0.0005223361225890096, 7, 0, 0, 0.000112...   \n",
       "0  [rbf, 53.338032867230886, 8, 0, 0, 4.427060272...   \n",
       "\n",
       "                                       ref  test_acc  train_acc  train_time  \\\n",
       "0    Algorithm_DB/svm_2019-7-26-1-54-3.pkl  0.888555   0.901802         NaN   \n",
       "0   Algorithm_DB/svm_2019-7-26-8-37-47.pkl  0.897574   0.894435         NaN   \n",
       "0    Algorithm_DB/svm_2019-7-26-9-9-22.pkl  0.991914   0.994604         NaN   \n",
       "0   Algorithm_DB/svm_2019-7-27-16-47-3.pkl  0.999666   0.999833         NaN   \n",
       "0  Algorithm_DB/svm_2019-7-27-16-56-25.pkl  0.999666   1.000000         NaN   \n",
       "0  Algorithm_DB/svm_2019-7-27-17-12-46.pkl  0.999333   0.999082         NaN   \n",
       "0   Algorithm_DB/svm_2019-7-27-17-21-6.pkl  0.996997   0.996412         NaN   \n",
       "0  Algorithm_DB/svm_2019-7-27-18-15-24.pkl  0.992659   0.989738         NaN   \n",
       "0   Algorithm_DB/svm_2019-7-29-13-3-35.pkl  0.978645   0.979810         NaN   \n",
       "0    Algorithm_DB/svm_2019-7-30-4-0-44.pkl  0.756423   0.750042         NaN   \n",
       "0     Algorithm_DB/svm_2019-7-30-5-1-5.pkl  0.996663   0.997831         NaN   \n",
       "\n",
       "  type  \n",
       "0  svm  \n",
       "0  svm  \n",
       "0  svm  \n",
       "0  svm  \n",
       "0  svm  \n",
       "0  svm  \n",
       "0  svm  \n",
       "0  svm  \n",
       "0  svm  \n",
       "0  svm  \n",
       "0  svm  "
      ]
     },
     "execution_count": 11,
     "metadata": {},
     "output_type": "execute_result"
    }
   ],
   "source": [
    "df[df.type.str.contains(\"svm\")]"
   ]
  },
  {
   "cell_type": "code",
   "execution_count": 3,
   "metadata": {},
   "outputs": [
    {
     "data": {
      "text/plain": [
       "'/home/santiagovargas/dev/CancerImaging/CancerImaging/Data_Notebooks'"
      ]
     },
     "execution_count": 3,
     "metadata": {},
     "output_type": "execute_result"
    }
   ],
   "source": [
    "import os \n",
    "os.getcwd()"
   ]
  },
  {
   "cell_type": "code",
   "execution_count": null,
   "metadata": {},
   "outputs": [],
   "source": []
  }
 ],
 "metadata": {
  "kernelspec": {
   "display_name": "Python 3",
   "language": "python",
   "name": "python3"
  },
  "language_info": {
   "codemirror_mode": {
    "name": "ipython",
    "version": 3
   },
   "file_extension": ".py",
   "mimetype": "text/x-python",
   "name": "python",
   "nbconvert_exporter": "python",
   "pygments_lexer": "ipython3",
   "version": "3.5.6"
  }
 },
 "nbformat": 4,
 "nbformat_minor": 2
}
