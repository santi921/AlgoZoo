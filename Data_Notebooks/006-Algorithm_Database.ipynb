{
 "cells": [
  {
   "cell_type": "code",
   "execution_count": 1,
   "metadata": {},
   "outputs": [
    {
     "name": "stdout",
     "output_type": "stream",
     "text": [
      " 001-Thresholding.ipynb\t\t       005-SegmentationMap.ipynb\r\n",
      " 002-BasicNN.ipynb\t\t       006-Algorithm_Database.ipynb\r\n",
      "'003-Linear Regressor.ipynb'\t       007-Test_Battery.ipynb\r\n",
      " 004-ImageStandardizationAndDb.ipynb\r\n"
     ]
    }
   ],
   "source": [
    "import pandas as pd\n",
    "!ls"
   ]
  },
  {
   "cell_type": "code",
   "execution_count": 8,
   "metadata": {},
   "outputs": [],
   "source": [
    "#DB Structure:\n",
    "# name|||||test acc|||||train acc|||||f1m train|||||f1m test|||||dataset #////k-folds ff scikit\n",
    "\n",
    "df = pd.DataFrame(columns=['ref','type' ,'train_acc', 'test_acc', 'f1m_train', 'f1m_test', 'kfolds', 'dataset', 'parameters','aug', 'train_time', 'imsize'])\n",
    "test = {'train_acc':[0], 'test_acc':[0], 'f1m_train':[0], 'f1m_test':[0], 'kfolds':[0], 'dataset':[0],'parameters':[[0,1,2,2,3]] }"
   ]
  },
  {
   "cell_type": "code",
   "execution_count": 6,
   "metadata": {},
   "outputs": [],
   "source": [
    "test = pd.DataFrame.from_dict(test)"
   ]
  },
  {
   "cell_type": "code",
   "execution_count": 7,
   "metadata": {},
   "outputs": [
    {
     "data": {
      "text/html": [
       "<div>\n",
       "<style scoped>\n",
       "    .dataframe tbody tr th:only-of-type {\n",
       "        vertical-align: middle;\n",
       "    }\n",
       "\n",
       "    .dataframe tbody tr th {\n",
       "        vertical-align: top;\n",
       "    }\n",
       "\n",
       "    .dataframe thead th {\n",
       "        text-align: right;\n",
       "    }\n",
       "</style>\n",
       "<table border=\"1\" class=\"dataframe\">\n",
       "  <thead>\n",
       "    <tr style=\"text-align: right;\">\n",
       "      <th></th>\n",
       "      <th>dataset</th>\n",
       "      <th>f1m_test</th>\n",
       "      <th>f1m_train</th>\n",
       "      <th>kfolds</th>\n",
       "      <th>parameters</th>\n",
       "      <th>test_acc</th>\n",
       "      <th>train_acc</th>\n",
       "    </tr>\n",
       "  </thead>\n",
       "  <tbody>\n",
       "    <tr>\n",
       "      <th>0</th>\n",
       "      <td>0</td>\n",
       "      <td>0</td>\n",
       "      <td>0</td>\n",
       "      <td>0</td>\n",
       "      <td>[0, 1, 2, 2, 3]</td>\n",
       "      <td>0</td>\n",
       "      <td>0</td>\n",
       "    </tr>\n",
       "  </tbody>\n",
       "</table>\n",
       "</div>"
      ],
      "text/plain": [
       "   dataset  f1m_test  f1m_train  kfolds       parameters  test_acc  train_acc\n",
       "0        0         0          0       0  [0, 1, 2, 2, 3]         0          0"
      ]
     },
     "execution_count": 7,
     "metadata": {},
     "output_type": "execute_result"
    }
   ],
   "source": [
    "test"
   ]
  },
  {
   "cell_type": "code",
   "execution_count": 9,
   "metadata": {},
   "outputs": [
    {
     "data": {
      "text/html": [
       "<div>\n",
       "<style scoped>\n",
       "    .dataframe tbody tr th:only-of-type {\n",
       "        vertical-align: middle;\n",
       "    }\n",
       "\n",
       "    .dataframe tbody tr th {\n",
       "        vertical-align: top;\n",
       "    }\n",
       "\n",
       "    .dataframe thead th {\n",
       "        text-align: right;\n",
       "    }\n",
       "</style>\n",
       "<table border=\"1\" class=\"dataframe\">\n",
       "  <thead>\n",
       "    <tr style=\"text-align: right;\">\n",
       "      <th></th>\n",
       "      <th>ref</th>\n",
       "      <th>type</th>\n",
       "      <th>train_acc</th>\n",
       "      <th>test_acc</th>\n",
       "      <th>f1m_train</th>\n",
       "      <th>f1m_test</th>\n",
       "      <th>kfolds</th>\n",
       "      <th>dataset</th>\n",
       "      <th>parameters</th>\n",
       "      <th>aug</th>\n",
       "      <th>train_time</th>\n",
       "      <th>imsize</th>\n",
       "    </tr>\n",
       "  </thead>\n",
       "  <tbody>\n",
       "  </tbody>\n",
       "</table>\n",
       "</div>"
      ],
      "text/plain": [
       "Empty DataFrame\n",
       "Columns: [ref, type, train_acc, test_acc, f1m_train, f1m_test, kfolds, dataset, parameters, aug, train_time, imsize]\n",
       "Index: []"
      ]
     },
     "execution_count": 9,
     "metadata": {},
     "output_type": "execute_result"
    }
   ],
   "source": [
    "df"
   ]
  },
  {
   "cell_type": "code",
   "execution_count": 48,
   "metadata": {},
   "outputs": [
    {
     "name": "stderr",
     "output_type": "stream",
     "text": [
      "/home/santiagovargas/anaconda3/envs/py35/lib/python3.5/site-packages/pandas/core/frame.py:6692: FutureWarning: Sorting because non-concatenation axis is not aligned. A future version\n",
      "of pandas will change to not sort by default.\n",
      "\n",
      "To accept the future behavior, pass 'sort=False'.\n",
      "\n",
      "To retain the current behavior and silence the warning, pass 'sort=True'.\n",
      "\n",
      "  sort=sort)\n"
     ]
    },
    {
     "data": {
      "text/html": [
       "<div>\n",
       "<style scoped>\n",
       "    .dataframe tbody tr th:only-of-type {\n",
       "        vertical-align: middle;\n",
       "    }\n",
       "\n",
       "    .dataframe tbody tr th {\n",
       "        vertical-align: top;\n",
       "    }\n",
       "\n",
       "    .dataframe thead th {\n",
       "        text-align: right;\n",
       "    }\n",
       "</style>\n",
       "<table border=\"1\" class=\"dataframe\">\n",
       "  <thead>\n",
       "    <tr style=\"text-align: right;\">\n",
       "      <th></th>\n",
       "      <th>dataset</th>\n",
       "      <th>f1m_test</th>\n",
       "      <th>f1m_train</th>\n",
       "      <th>kfolds</th>\n",
       "      <th>parameters</th>\n",
       "      <th>ref</th>\n",
       "      <th>test_acc</th>\n",
       "      <th>train_acc</th>\n",
       "      <th>type</th>\n",
       "    </tr>\n",
       "  </thead>\n",
       "  <tbody>\n",
       "    <tr>\n",
       "      <th>0</th>\n",
       "      <td>0</td>\n",
       "      <td>0</td>\n",
       "      <td>0</td>\n",
       "      <td>0</td>\n",
       "      <td>[0, 1, 2, 2, 3]</td>\n",
       "      <td>NaN</td>\n",
       "      <td>0</td>\n",
       "      <td>0</td>\n",
       "      <td>NaN</td>\n",
       "    </tr>\n",
       "  </tbody>\n",
       "</table>\n",
       "</div>"
      ],
      "text/plain": [
       "  dataset f1m_test f1m_train kfolds       parameters  ref test_acc train_acc  \\\n",
       "0       0        0         0      0  [0, 1, 2, 2, 3]  NaN        0         0   \n",
       "\n",
       "  type  \n",
       "0  NaN  "
      ]
     },
     "execution_count": 48,
     "metadata": {},
     "output_type": "execute_result"
    }
   ],
   "source": [
    "df.append(test)"
   ]
  },
  {
   "cell_type": "code",
   "execution_count": 12,
   "metadata": {},
   "outputs": [
    {
     "name": "stdout",
     "output_type": "stream",
     "text": [
      "/home/santiagovargas/dev/CancerImaging/CancerImaging/Data_Notebooks\r\n"
     ]
    }
   ],
   "source": [
    "!pwd\n",
    "df.to_pickle(\"/home/santiagovargas/dev/CancerImaging/CancerImaging/Algorithm_DB/***statistics_DONTDELETE.pkl\")\n"
   ]
  },
  {
   "cell_type": "code",
   "execution_count": 2,
   "metadata": {},
   "outputs": [],
   "source": [
    "df = pd.read_pickle(\"/home/santiagovargas/dev/CancerImaging/CancerImaging/Algorithm_DB/***statistics_DONTDELETE.pkl\")\n",
    "#df = pd.read_pickle(\"/home/santiagovargas/dev/CancerImaging/CancerImaging/***statistics_DONTDELETE.pkl\")"
   ]
  },
  {
   "cell_type": "code",
   "execution_count": 3,
   "metadata": {
    "scrolled": true
   },
   "outputs": [
    {
     "data": {
      "text/html": [
       "<div>\n",
       "<style scoped>\n",
       "    .dataframe tbody tr th:only-of-type {\n",
       "        vertical-align: middle;\n",
       "    }\n",
       "\n",
       "    .dataframe tbody tr th {\n",
       "        vertical-align: top;\n",
       "    }\n",
       "\n",
       "    .dataframe thead th {\n",
       "        text-align: right;\n",
       "    }\n",
       "</style>\n",
       "<table border=\"1\" class=\"dataframe\">\n",
       "  <thead>\n",
       "    <tr style=\"text-align: right;\">\n",
       "      <th></th>\n",
       "      <th>aug</th>\n",
       "      <th>dataset</th>\n",
       "      <th>f1m_test</th>\n",
       "      <th>f1m_train</th>\n",
       "      <th>imsize</th>\n",
       "      <th>kfolds</th>\n",
       "      <th>parameters</th>\n",
       "      <th>ref</th>\n",
       "      <th>test_acc</th>\n",
       "      <th>train_acc</th>\n",
       "      <th>train_time</th>\n",
       "      <th>type</th>\n",
       "    </tr>\n",
       "  </thead>\n",
       "  <tbody>\n",
       "    <tr>\n",
       "      <th>0</th>\n",
       "      <td>False</td>\n",
       "      <td>3</td>\n",
       "      <td>1.000000</td>\n",
       "      <td>1.000000</td>\n",
       "      <td>256</td>\n",
       "      <td>0</td>\n",
       "      <td>[1, 10, adam, binary_crossentropy, [10, 1]]</td>\n",
       "      <td>nn_2019-7-26-12-7-11.pkl</td>\n",
       "      <td>0.532345</td>\n",
       "      <td>0.543339</td>\n",
       "      <td>10.032219</td>\n",
       "      <td>nn</td>\n",
       "    </tr>\n",
       "    <tr>\n",
       "      <th>0</th>\n",
       "      <td>False</td>\n",
       "      <td>3</td>\n",
       "      <td>0.527504</td>\n",
       "      <td>0.529658</td>\n",
       "      <td>256</td>\n",
       "      <td>0</td>\n",
       "      <td>[1, 10, adam, binary_crossentropy, [10, 1]]</td>\n",
       "      <td>nn_2019-7-26-12-8-8.pkl</td>\n",
       "      <td>0.955526</td>\n",
       "      <td>0.966610</td>\n",
       "      <td>7.935634</td>\n",
       "      <td>nn</td>\n",
       "    </tr>\n",
       "    <tr>\n",
       "      <th>0</th>\n",
       "      <td>False</td>\n",
       "      <td>3</td>\n",
       "      <td>0.626682</td>\n",
       "      <td>0.629043</td>\n",
       "      <td>128</td>\n",
       "      <td>0</td>\n",
       "      <td>[25, 10, adam, binary_crossentropy, [10, 1]]</td>\n",
       "      <td>nn_2019-7-26-12-39-35.pkl</td>\n",
       "      <td>0.867868</td>\n",
       "      <td>0.864091</td>\n",
       "      <td>446.078542</td>\n",
       "      <td>nn</td>\n",
       "    </tr>\n",
       "    <tr>\n",
       "      <th>0</th>\n",
       "      <td>False</td>\n",
       "      <td>3</td>\n",
       "      <td>0.668780</td>\n",
       "      <td>0.633854</td>\n",
       "      <td>256</td>\n",
       "      <td>0</td>\n",
       "      <td>[25, 10, adam, binary_crossentropy, [33, 0.9]]</td>\n",
       "      <td>nn_2019-7-26-12-56-56.pkl</td>\n",
       "      <td>0.850404</td>\n",
       "      <td>0.842833</td>\n",
       "      <td>196.473168</td>\n",
       "      <td>nn</td>\n",
       "    </tr>\n",
       "    <tr>\n",
       "      <th>0</th>\n",
       "      <td>False</td>\n",
       "      <td>3</td>\n",
       "      <td>0.644444</td>\n",
       "      <td>0.628190</td>\n",
       "      <td>256</td>\n",
       "      <td>0</td>\n",
       "      <td>[50, 10, adam, binary_crossentropy, [102, 0.8]]</td>\n",
       "      <td>nn_2019-7-26-13-57-8.pkl</td>\n",
       "      <td>0.849057</td>\n",
       "      <td>0.859022</td>\n",
       "      <td>252.201746</td>\n",
       "      <td>nn</td>\n",
       "    </tr>\n",
       "    <tr>\n",
       "      <th>0</th>\n",
       "      <td>False</td>\n",
       "      <td>3</td>\n",
       "      <td>0.617825</td>\n",
       "      <td>0.608845</td>\n",
       "      <td>256</td>\n",
       "      <td>0</td>\n",
       "      <td>[50, 10, adam, binary_crossentropy, [42, 0.9]]</td>\n",
       "      <td>nn_2019-7-26-13-59-45.pkl</td>\n",
       "      <td>0.892183</td>\n",
       "      <td>0.884654</td>\n",
       "      <td>154.173418</td>\n",
       "      <td>nn</td>\n",
       "    </tr>\n",
       "    <tr>\n",
       "      <th>0</th>\n",
       "      <td>False</td>\n",
       "      <td>3</td>\n",
       "      <td>0.535040</td>\n",
       "      <td>0.542664</td>\n",
       "      <td>NaN</td>\n",
       "      <td>0</td>\n",
       "      <td>[adam, binary_crossentropy, 15, 10]</td>\n",
       "      <td>cnn_2019-7-26-14-47-15.pkl</td>\n",
       "      <td>1.000000</td>\n",
       "      <td>1.000000</td>\n",
       "      <td>383.210236</td>\n",
       "      <td>cnn</td>\n",
       "    </tr>\n",
       "    <tr>\n",
       "      <th>0</th>\n",
       "      <td>False</td>\n",
       "      <td>3</td>\n",
       "      <td>0.537736</td>\n",
       "      <td>0.541990</td>\n",
       "      <td>NaN</td>\n",
       "      <td>0</td>\n",
       "      <td>[adam, binary_crossentropy, 15, 10]</td>\n",
       "      <td>cnn_2019-7-26-14-53-53.pkl</td>\n",
       "      <td>1.000000</td>\n",
       "      <td>1.000000</td>\n",
       "      <td>379.346120</td>\n",
       "      <td>cnn</td>\n",
       "    </tr>\n",
       "  </tbody>\n",
       "</table>\n",
       "</div>"
      ],
      "text/plain": [
       "     aug dataset  f1m_test  f1m_train imsize kfolds  \\\n",
       "0  False       3  1.000000   1.000000    256      0   \n",
       "0  False       3  0.527504   0.529658    256      0   \n",
       "0  False       3  0.626682   0.629043    128      0   \n",
       "0  False       3  0.668780   0.633854    256      0   \n",
       "0  False       3  0.644444   0.628190    256      0   \n",
       "0  False       3  0.617825   0.608845    256      0   \n",
       "0  False       3  0.535040   0.542664    NaN      0   \n",
       "0  False       3  0.537736   0.541990    NaN      0   \n",
       "\n",
       "                                        parameters  \\\n",
       "0      [1, 10, adam, binary_crossentropy, [10, 1]]   \n",
       "0      [1, 10, adam, binary_crossentropy, [10, 1]]   \n",
       "0     [25, 10, adam, binary_crossentropy, [10, 1]]   \n",
       "0   [25, 10, adam, binary_crossentropy, [33, 0.9]]   \n",
       "0  [50, 10, adam, binary_crossentropy, [102, 0.8]]   \n",
       "0   [50, 10, adam, binary_crossentropy, [42, 0.9]]   \n",
       "0              [adam, binary_crossentropy, 15, 10]   \n",
       "0              [adam, binary_crossentropy, 15, 10]   \n",
       "\n",
       "                          ref  test_acc  train_acc  train_time type  \n",
       "0    nn_2019-7-26-12-7-11.pkl  0.532345   0.543339   10.032219   nn  \n",
       "0     nn_2019-7-26-12-8-8.pkl  0.955526   0.966610    7.935634   nn  \n",
       "0   nn_2019-7-26-12-39-35.pkl  0.867868   0.864091  446.078542   nn  \n",
       "0   nn_2019-7-26-12-56-56.pkl  0.850404   0.842833  196.473168   nn  \n",
       "0    nn_2019-7-26-13-57-8.pkl  0.849057   0.859022  252.201746   nn  \n",
       "0   nn_2019-7-26-13-59-45.pkl  0.892183   0.884654  154.173418   nn  \n",
       "0  cnn_2019-7-26-14-47-15.pkl  1.000000   1.000000  383.210236  cnn  \n",
       "0  cnn_2019-7-26-14-53-53.pkl  1.000000   1.000000  379.346120  cnn  "
      ]
     },
     "execution_count": 3,
     "metadata": {},
     "output_type": "execute_result"
    }
   ],
   "source": [
    "df"
   ]
  },
  {
   "cell_type": "code",
   "execution_count": 3,
   "metadata": {},
   "outputs": [
    {
     "data": {
      "text/plain": [
       "'/home/santiagovargas/dev/CancerImaging/CancerImaging/Data_Notebooks'"
      ]
     },
     "execution_count": 3,
     "metadata": {},
     "output_type": "execute_result"
    }
   ],
   "source": [
    "import os \n",
    "os.getcwd()"
   ]
  },
  {
   "cell_type": "code",
   "execution_count": null,
   "metadata": {},
   "outputs": [],
   "source": []
  }
 ],
 "metadata": {
  "kernelspec": {
   "display_name": "Python 3",
   "language": "python",
   "name": "python3"
  },
  "language_info": {
   "codemirror_mode": {
    "name": "ipython",
    "version": 3
   },
   "file_extension": ".py",
   "mimetype": "text/x-python",
   "name": "python",
   "nbconvert_exporter": "python",
   "pygments_lexer": "ipython3",
   "version": "3.5.6"
  }
 },
 "nbformat": 4,
 "nbformat_minor": 2
}
