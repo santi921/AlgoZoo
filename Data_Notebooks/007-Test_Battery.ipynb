{
 "cells": [
  {
   "cell_type": "code",
   "execution_count": 67,
   "metadata": {},
   "outputs": [],
   "source": [
    "path = \"/home/santiagovargas/dev/CancerImaging/CancerImaging/images/test images/\""
   ]
  },
  {
   "cell_type": "code",
   "execution_count": null,
   "metadata": {},
   "outputs": [],
   "source": []
  },
  {
   "cell_type": "code",
   "execution_count": 86,
   "metadata": {},
   "outputs": [],
   "source": [
    "import os\n",
    "import numpy as np\n",
    "from PIL import Image\n",
    "from PIL import ImageFilter\n",
    "from joblib import load"
   ]
  },
  {
   "cell_type": "code",
   "execution_count": null,
   "metadata": {},
   "outputs": [],
   "source": []
  },
  {
   "cell_type": "code",
   "execution_count": 70,
   "metadata": {},
   "outputs": [
    {
     "name": "stdout",
     "output_type": "stream",
     "text": [
      "['IMG_0733.JPG', 'IMG_0768.JPG', 'IMG_0729.JPG', 'IMG_0748.JPG', 'IMG_0763.JPG', 'IMG_0769.JPG', 'IMG_0728.JPG', 'IMG_0764.JPG', 'IMG_0767.JPG', 'IMG_0734.JPG', 'IMG_0765.JPG', 'IMG_0745.JPG', 'IMG_0750.JPG', 'IMG_0749.JPG', 'IMG_0735.JPG', 'IMG_0746.JPG', 'IMG_0730.JPG', 'IMG_0759.JPG', 'IMG_0766.JPG']\n",
      "[0. 0. 0. 0. 1. 0. 0. 1. 0. 0. 0. 0. 0. 0. 0. 0. 0. 0. 0.]\n"
     ]
    }
   ],
   "source": [
    "files = os.listdir(path)\n",
    "print(files)\n",
    "labels = np.zeros(len(files))\n",
    "labels[4] = 1\n",
    "labels[7] = 1\n",
    "print(labels)"
   ]
  },
  {
   "cell_type": "code",
   "execution_count": 71,
   "metadata": {},
   "outputs": [
    {
     "data": {
      "text/plain": [
       "['IMG_0733.JPG',\n",
       " 'IMG_0768.JPG',\n",
       " 'IMG_0729.JPG',\n",
       " 'IMG_0748.JPG',\n",
       " 'IMG_0763.JPG',\n",
       " 'IMG_0769.JPG',\n",
       " 'IMG_0728.JPG',\n",
       " 'IMG_0764.JPG',\n",
       " 'IMG_0767.JPG',\n",
       " 'IMG_0734.JPG',\n",
       " 'IMG_0765.JPG',\n",
       " 'IMG_0745.JPG',\n",
       " 'IMG_0750.JPG',\n",
       " 'IMG_0749.JPG',\n",
       " 'IMG_0735.JPG',\n",
       " 'IMG_0746.JPG',\n",
       " 'IMG_0730.JPG',\n",
       " 'IMG_0759.JPG',\n",
       " 'IMG_0766.JPG']"
      ]
     },
     "execution_count": 71,
     "metadata": {},
     "output_type": "execute_result"
    }
   ],
   "source": [
    "files\n",
    "\n"
   ]
  },
  {
   "cell_type": "code",
   "execution_count": 118,
   "metadata": {},
   "outputs": [
    {
     "name": "stderr",
     "output_type": "stream",
     "text": [
      "/home/santiagovargas/anaconda3/envs/py35/lib/python3.5/site-packages/ipykernel_launcher.py:9: RuntimeWarning: invalid value encountered in double_scalars\n",
      "  if __name__ == '__main__':\n"
     ]
    }
   ],
   "source": [
    "image_vector_256 = []\n",
    "image_vector_128 = []\n",
    "\n",
    "for i in files_img:\n",
    "    #convert to single channel\n",
    "    temp1 = Image.open(path + files_img[0]).convert('L')\n",
    "    temp = temp.crop((800,800,800 + 1000,800 + 1000))\n",
    "    #standardize\n",
    "    temp = Image.fromarray((temp - np.mean(temp) / np.std(temp)).astype(np.uint8), 'L')\n",
    "    #gaussian blur\n",
    "    temp = temp.filter(ImageFilter.GaussianBlur(radius=6))\n",
    "    \n",
    " \n",
    "    \n",
    "    img256 = temp.resize((256, 256), Image.ANTIALIAS)\n",
    "    img128 = temp.resize((128, 128), Image.ANTIALIAS)\n",
    "\n",
    "    image_vector_256.append(np.array(img256).flatten())\n",
    "    image_vector_128.append(np.array(img128).flatten())\n",
    "    \n",
    "temp1.show()\n",
    "img256.show()"
   ]
  },
  {
   "cell_type": "markdown",
   "metadata": {},
   "source": [
    "Example Transformation on a single image\n"
   ]
  },
  {
   "cell_type": "code",
   "execution_count": 113,
   "metadata": {},
   "outputs": [
    {
     "name": "stderr",
     "output_type": "stream",
     "text": [
      "/home/santiagovargas/.local/lib/python3.5/site-packages/sklearn/base.py:306: UserWarning: Trying to unpickle estimator SVC from version 0.20.0 when using version 0.21.2. This might lead to breaking code or invalid results. Use at your own risk.\n",
      "  UserWarning)\n",
      "/home/santiagovargas/.local/lib/python3.5/site-packages/sklearn/base.py:306: UserWarning: Trying to unpickle estimator SGDClassifier from version 0.20.0 when using version 0.21.2. This might lead to breaking code or invalid results. Use at your own risk.\n",
      "  UserWarning)\n"
     ]
    },
    {
     "data": {
      "text/plain": [
       "0.8888888888888888"
      ]
     },
     "execution_count": 113,
     "metadata": {},
     "output_type": "execute_result"
    }
   ],
   "source": [
    "image_vector_256 = np.array(image_vector_256)\n",
    "image_vector_128 = np.array(image_vector_128)\n",
    "\n",
    "\n",
    "\n",
    "svm = load('/home/santiagovargas/dev/CancerImaging/CancerImaging/Trial_Models/svm_2019-7-26-9-9-22.pkl') \n",
    "sgd_1 = load('/home/santiagovargas/dev/CancerImaging/CancerImaging/Trial_Models/sgd_2019-7-26-9-23-29.pkl')\n",
    "sgd_2 = load('/home/santiagovargas/dev/CancerImaging/CancerImaging/Trial_Models/sgd_2019-7-26-9-20-4.pkl')\n",
    "\n",
    "#nn_1 = \n",
    "#cnn_1 =\n",
    "\n",
    "(len(image_vector_128)-2)/len(image_vector_128)"
   ]
  },
  {
   "cell_type": "code",
   "execution_count": null,
   "metadata": {},
   "outputs": [],
   "source": []
  },
  {
   "cell_type": "code",
   "execution_count": 115,
   "metadata": {},
   "outputs": [
    {
     "data": {
      "text/plain": [
       "array([0., 0., 0., 0., 0., 0., 0., 0., 0., 0., 0., 0., 0., 0., 0., 0., 0.,\n",
       "       0.])"
      ]
     },
     "execution_count": 115,
     "metadata": {},
     "output_type": "execute_result"
    }
   ],
   "source": [
    "svm.predict(image_vector_256)\n",
    "#svm.predict_prob(image_vector_256)"
   ]
  },
  {
   "cell_type": "code",
   "execution_count": 111,
   "metadata": {},
   "outputs": [
    {
     "data": {
      "text/plain": [
       "array([0., 0., 0., 0., 0., 0., 0., 0., 0., 0., 0., 0., 0., 0., 0., 0., 0.,\n",
       "       0.])"
      ]
     },
     "execution_count": 111,
     "metadata": {},
     "output_type": "execute_result"
    }
   ],
   "source": [
    "sgd_1.predict(image_vector_128)"
   ]
  },
  {
   "cell_type": "code",
   "execution_count": 112,
   "metadata": {},
   "outputs": [
    {
     "data": {
      "text/plain": [
       "array([0., 0., 0., 0., 0., 0., 0., 0., 0., 0., 0., 0., 0., 0., 0., 0., 0.,\n",
       "       0.])"
      ]
     },
     "execution_count": 112,
     "metadata": {},
     "output_type": "execute_result"
    }
   ],
   "source": [
    "sgd_2.predict(image_vector_128)"
   ]
  },
  {
   "cell_type": "code",
   "execution_count": null,
   "metadata": {},
   "outputs": [],
   "source": []
  }
 ],
 "metadata": {
  "kernelspec": {
   "display_name": "Python 3",
   "language": "python",
   "name": "python3"
  },
  "language_info": {
   "codemirror_mode": {
    "name": "ipython",
    "version": 3
   },
   "file_extension": ".py",
   "mimetype": "text/x-python",
   "name": "python",
   "nbconvert_exporter": "python",
   "pygments_lexer": "ipython3",
   "version": "3.7.3"
  }
 },
 "nbformat": 4,
 "nbformat_minor": 2
}
