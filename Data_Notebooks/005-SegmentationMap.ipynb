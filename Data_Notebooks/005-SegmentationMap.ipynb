{
 "cells": [
  {
   "cell_type": "code",
   "execution_count": 1,
   "metadata": {},
   "outputs": [],
   "source": [
    "import tensorflow \n",
    "import numpy as np \n",
    "from os import listdir\n",
    "from scipy import stats\n",
    "from matplotlib.image import imread\n",
    "import matplotlib.pyplot as plt\n",
    "from PIL import Image\n",
    "import pandas"
   ]
  },
  {
   "cell_type": "code",
   "execution_count": 2,
   "metadata": {},
   "outputs": [],
   "source": [
    "%matplotlib inline"
   ]
  },
  {
   "cell_type": "code",
   "execution_count": 3,
   "metadata": {},
   "outputs": [
    {
     "ename": "FileNotFoundError",
     "evalue": "[Errno 2] No such file or directory: 'images/OnlineDatabases/FYVE Hela 1'",
     "output_type": "error",
     "traceback": [
      "\u001b[0;31m---------------------------------------------------------------------------\u001b[0m",
      "\u001b[0;31mFileNotFoundError\u001b[0m                         Traceback (most recent call last)",
      "\u001b[0;32m<ipython-input-3-da4c7a154d73>\u001b[0m in \u001b[0;36m<module>\u001b[0;34m\u001b[0m\n\u001b[1;32m      1\u001b[0m \u001b[0mdir\u001b[0m \u001b[0;34m=\u001b[0m \u001b[0;34m\"images/OnlineDatabases/FYVE Hela 1\"\u001b[0m\u001b[0;34m\u001b[0m\u001b[0m\n\u001b[0;32m----> 2\u001b[0;31m \u001b[0mlist_images\u001b[0m \u001b[0;34m=\u001b[0m \u001b[0mlistdir\u001b[0m\u001b[0;34m(\u001b[0m\u001b[0mdir\u001b[0m\u001b[0;34m)\u001b[0m\u001b[0;34m\u001b[0m\u001b[0m\n\u001b[0m\u001b[1;32m      3\u001b[0m \u001b[0mprint\u001b[0m\u001b[0;34m(\u001b[0m\u001b[0mlist_images\u001b[0m\u001b[0;34m)\u001b[0m\u001b[0;34m\u001b[0m\u001b[0m\n\u001b[1;32m      4\u001b[0m \u001b[0;34m\u001b[0m\u001b[0m\n\u001b[1;32m      5\u001b[0m \u001b[0;32mfor\u001b[0m \u001b[0mi\u001b[0m\u001b[0;34m,\u001b[0m\u001b[0mimages\u001b[0m \u001b[0;32min\u001b[0m \u001b[0menumerate\u001b[0m\u001b[0;34m(\u001b[0m\u001b[0mlist_images\u001b[0m\u001b[0;34m)\u001b[0m\u001b[0;34m:\u001b[0m\u001b[0;34m\u001b[0m\u001b[0m\n",
      "\u001b[0;31mFileNotFoundError\u001b[0m: [Errno 2] No such file or directory: 'images/OnlineDatabases/FYVE Hela 1'"
     ]
    }
   ],
   "source": [
    "dir = \"images/OnlineDatabases/FYVE Hela 1\"\n",
    "list_images = listdir(dir)\n",
    "print(list_images)\n",
    "\n",
    "for i,images in enumerate(list_images):\n",
    "    if images[-9:-4]==\"label\":\n",
    "        temp = imread(dir + \"/\" + images)\n",
    "        print(np.max(temp))\n",
    "        for i in range(temp.shape[0]):\n",
    "            for j in range(temp.shape[1]):\n",
    "               \n",
    "                if (temp[i][j] > 110 and temp[i][j] < 220):\n",
    "                    temp[i][j] = 255\n",
    "                else:\n",
    "                    temp[i][j] = 0\n",
    "        plt.imshow(temp)\n",
    "        \n",
    "        im = Image.fromarray(temp.astype('uint8'))\n",
    "        im.save(str(dir+\"/two-cat-\"+images))    \n",
    "        \n",
    "    \n",
    "\n",
    "\n",
    "        "
   ]
  },
  {
   "cell_type": "code",
   "execution_count": 4,
   "metadata": {},
   "outputs": [
    {
     "name": "stdout",
     "output_type": "stream",
     "text": [
      "ls: cannot access 'images/OnlineDatabases/FYVE Hela 1': No such file or directory\r\n"
     ]
    }
   ],
   "source": [
    "!ls images/OnlineDatabases/FYVE\\ Hela\\ 1\n"
   ]
  },
  {
   "cell_type": "code",
   "execution_count": 16,
   "metadata": {},
   "outputs": [],
   "source": [
    "dir = \"images/OnlineDatabases/DatasetB\"\n",
    "list_images = listdir(dir)\n",
    "list_refined = []\n",
    "for i, j in enumerate(list_images):\n",
    "    if (j[0:3] ==\"two\" and  j[-22:-19] == \"Red\"):\n",
    "        list_refined.append(j)\n",
    "    \n",
    "with open(\"images/OnlineDatabases/DatasetB/labellist.txt\", 'w') as f:\n",
    "    for item in list_refined:\n",
    "        f.write(\"%s\\n\" % item)"
   ]
  },
  {
   "cell_type": "code",
   "execution_count": null,
   "metadata": {},
   "outputs": [],
   "source": []
  },
  {
   "cell_type": "code",
   "execution_count": null,
   "metadata": {},
   "outputs": [],
   "source": []
  }
 ],
 "metadata": {
  "kernelspec": {
   "display_name": "Python 3",
   "language": "python",
   "name": "python3"
  },
  "language_info": {
   "codemirror_mode": {
    "name": "ipython",
    "version": 3
   },
   "file_extension": ".py",
   "mimetype": "text/x-python",
   "name": "python",
   "nbconvert_exporter": "python",
   "pygments_lexer": "ipython3",
   "version": "3.7.3"
  }
 },
 "nbformat": 4,
 "nbformat_minor": 2
}
