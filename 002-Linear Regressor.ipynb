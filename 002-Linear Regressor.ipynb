{
 "cells": [
  {
   "cell_type": "code",
   "execution_count": 2,
   "metadata": {},
   "outputs": [],
   "source": [
    "import cv2\n",
    "import numpy as np \n",
    "from matplotlib import pyplot as plt\n",
    "import argparse\n",
    "from sklearn.model_selection import train_test_split"
   ]
  },
  {
   "cell_type": "code",
   "execution_count": 3,
   "metadata": {},
   "outputs": [
    {
     "name": "stdout",
     "output_type": "stream",
     "text": [
      "<class 'numpy.ndarray'>\n"
     ]
    }
   ],
   "source": [
    "#read images\n",
    "negative = cv2.imread(\"margin_rodent.jpg\")\n",
    "positive = cv2.imread(\"tumor_human.jpg\")\n",
    "\n",
    "bw_negative = cv2.cvtColor(negative, cv2.COLOR_BGR2GRAY)\n",
    "bw_positive = cv2.cvtColor(positive, cv2.COLOR_BGR2GRAY)\n",
    "print(type(bw_negative))"
   ]
  },
  {
   "cell_type": "code",
   "execution_count": 6,
   "metadata": {},
   "outputs": [
    {
     "name": "stdout",
     "output_type": "stream",
     "text": [
      "[69 86  1]\n"
     ]
    }
   ],
   "source": [
    "cube_size_gray = np.array([negative.shape[0]/16, negative.shape[1]/16,1])\n",
    "cube_size_gray = cube_size_gray.astype(\"int\")\n",
    "print(cube_size_gray)"
   ]
  },
  {
   "cell_type": "code",
   "execution_count": 7,
   "metadata": {},
   "outputs": [
    {
     "name": "stdout",
     "output_type": "stream",
     "text": [
      "[1561 5004 8884 ... 2387 9661  570]\n",
      "[5977 8936 8448 ... 7328 4589 6689]\n"
     ]
    }
   ],
   "source": [
    "random_index = np.arange(69*86*2)\n",
    "np.random.shuffle(random_index)\n",
    "\n",
    "image_vector = np.concatenate((bw_negative, bw_positive), axis=1)\n",
    "temp = np.zeros(69*86)\n",
    "temp1 = np.zeros(69*86) + 1\n",
    "results_vector = np.concatenate((temp, temp1))\n",
    "\n",
    "test_ind = random_index[0:int(len(random_index)*0.2)]\n",
    "train_ind = random_index[int(len(random_index)*0.2):-1]\n",
    "\n",
    "print(test_ind)\n",
    "print(train_ind)"
   ]
  },
  {
   "cell_type": "code",
   "execution_count": 8,
   "metadata": {},
   "outputs": [
    {
     "name": "stdout",
     "output_type": "stream",
     "text": [
      "[0. 0. 1. ... 0. 1. 0.]\n"
     ]
    }
   ],
   "source": [
    "transform_train = []\n",
    "transform_test = []\n",
    "\n",
    "for i in test_ind:\n",
    "    \n",
    "for i in train_ind:\n",
    "\n",
    "vals_ind_train = results_vector[train_ind]\n",
    "vals_ind_test = results_vector[test_ind]\n",
    "print(vals_ind_test)"
   ]
  },
  {
   "cell_type": "code",
   "execution_count": null,
   "metadata": {},
   "outputs": [],
   "source": []
  },
  {
   "cell_type": "markdown",
   "metadata": {},
   "source": []
  },
  {
   "cell_type": "code",
   "execution_count": null,
   "metadata": {},
   "outputs": [],
   "source": []
  },
  {
   "cell_type": "code",
   "execution_count": null,
   "metadata": {},
   "outputs": [],
   "source": []
  }
 ],
 "metadata": {
  "kernelspec": {
   "display_name": "Python 3",
   "language": "python",
   "name": "python3"
  },
  "language_info": {
   "codemirror_mode": {
    "name": "ipython",
    "version": 3
   },
   "file_extension": ".py",
   "mimetype": "text/x-python",
   "name": "python",
   "nbconvert_exporter": "python",
   "pygments_lexer": "ipython3",
   "version": "3.6.4"
  }
 },
 "nbformat": 4,
 "nbformat_minor": 2
}
